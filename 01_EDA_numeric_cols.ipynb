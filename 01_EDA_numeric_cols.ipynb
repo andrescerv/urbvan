{
 "cells": [
  {
   "cell_type": "markdown",
   "metadata": {},
   "source": [
    "# UNIVARIATE ANALYSIS\n",
    "\n",
    "## NUMERIC COLUMNS"
   ]
  },
  {
   "cell_type": "code",
   "execution_count": 78,
   "metadata": {},
   "outputs": [],
   "source": [
    "import numpy as np\n",
    "import pandas as pd\n",
    "import matplotlib.pyplot as plt\n",
    "import seaborn as sns\n",
    "\n",
    "date_cols = [\n",
    "    'reservation_created_at',\n",
    "    'trip_month',\n",
    "    'trip_week',\n",
    "    'trip_day',\n",
    "    'trip_period',\n",
    "    'client_first_reservation',\n",
    "    'client_prev_reservation',\n",
    "    'client_next_reservation',\n",
    "    'client_last_reservation',\n",
    "    'client_first_trip',\n",
    "    'client_prev_trip',\n",
    "    'client_next_trip',\n",
    "    'client_last_trip'\n",
    "]\n",
    "\n",
    "col_types = {'reservation_id':'int'}\n",
    "\n",
    "\n",
    "original_df = pd.read_csv('data.csv', parse_dates=date_cols)\n",
    "df = original_df.copy()"
   ]
  },
  {
   "cell_type": "code",
   "execution_count": 8,
   "metadata": {},
   "outputs": [
    {
     "data": {
      "text/html": [
       "<div>\n",
       "<style scoped>\n",
       "    .dataframe tbody tr th:only-of-type {\n",
       "        vertical-align: middle;\n",
       "    }\n",
       "\n",
       "    .dataframe tbody tr th {\n",
       "        vertical-align: top;\n",
       "    }\n",
       "\n",
       "    .dataframe thead th {\n",
       "        text-align: right;\n",
       "    }\n",
       "</style>\n",
       "<table border=\"1\" class=\"dataframe\">\n",
       "  <thead>\n",
       "    <tr style=\"text-align: right;\">\n",
       "      <th></th>\n",
       "      <th>reservation_id</th>\n",
       "      <th>cost</th>\n",
       "      <th>seats</th>\n",
       "      <th>client_id</th>\n",
       "      <th>res_trip_id</th>\n",
       "      <th>stop_id</th>\n",
       "      <th>pickup_stop_id</th>\n",
       "      <th>trip_id</th>\n",
       "      <th>trip_seat_inventory</th>\n",
       "      <th>van_id</th>\n",
       "      <th>seat_price</th>\n",
       "      <th>km_google</th>\n",
       "      <th>trip_cpt</th>\n",
       "      <th>days_between_purchases</th>\n",
       "      <th>client_trip_number</th>\n",
       "      <th>days_between_trips</th>\n",
       "      <th>res_to_trip_days</th>\n",
       "    </tr>\n",
       "  </thead>\n",
       "  <tbody>\n",
       "    <tr>\n",
       "      <th>count</th>\n",
       "      <td>3.533000e+03</td>\n",
       "      <td>3533.000000</td>\n",
       "      <td>3533.000000</td>\n",
       "      <td>3533.000000</td>\n",
       "      <td>3533.000000</td>\n",
       "      <td>3533.000000</td>\n",
       "      <td>3533.000000</td>\n",
       "      <td>3903.000000</td>\n",
       "      <td>3903.000000</td>\n",
       "      <td>3903.000000</td>\n",
       "      <td>3903.000000</td>\n",
       "      <td>3903.000000</td>\n",
       "      <td>3903.000000</td>\n",
       "      <td>2453.000000</td>\n",
       "      <td>3903.000000</td>\n",
       "      <td>2822.000000</td>\n",
       "      <td>3533.000000</td>\n",
       "    </tr>\n",
       "    <tr>\n",
       "      <th>mean</th>\n",
       "      <td>2.681275e+06</td>\n",
       "      <td>235.510048</td>\n",
       "      <td>1.234645</td>\n",
       "      <td>358323.476649</td>\n",
       "      <td>503499.451741</td>\n",
       "      <td>16871.231248</td>\n",
       "      <td>16866.855364</td>\n",
       "      <td>503604.144248</td>\n",
       "      <td>19.387907</td>\n",
       "      <td>603.102229</td>\n",
       "      <td>201.648219</td>\n",
       "      <td>215.709270</td>\n",
       "      <td>1251.336112</td>\n",
       "      <td>12.890244</td>\n",
       "      <td>120.956188</td>\n",
       "      <td>11.177681</td>\n",
       "      <td>0.793394</td>\n",
       "    </tr>\n",
       "    <tr>\n",
       "      <th>std</th>\n",
       "      <td>5.881861e+03</td>\n",
       "      <td>128.931335</td>\n",
       "      <td>0.423837</td>\n",
       "      <td>87740.242255</td>\n",
       "      <td>7449.348540</td>\n",
       "      <td>855.756893</td>\n",
       "      <td>856.086474</td>\n",
       "      <td>7373.295686</td>\n",
       "      <td>1.482748</td>\n",
       "      <td>241.658459</td>\n",
       "      <td>95.862568</td>\n",
       "      <td>72.335907</td>\n",
       "      <td>412.984591</td>\n",
       "      <td>20.420739</td>\n",
       "      <td>359.377102</td>\n",
       "      <td>19.548527</td>\n",
       "      <td>1.000153</td>\n",
       "    </tr>\n",
       "    <tr>\n",
       "      <th>min</th>\n",
       "      <td>2.670159e+06</td>\n",
       "      <td>11.000000</td>\n",
       "      <td>1.000000</td>\n",
       "      <td>-1.000000</td>\n",
       "      <td>490438.000000</td>\n",
       "      <td>13275.000000</td>\n",
       "      <td>13271.000000</td>\n",
       "      <td>490438.000000</td>\n",
       "      <td>10.000000</td>\n",
       "      <td>99.000000</td>\n",
       "      <td>11.000000</td>\n",
       "      <td>7.920000</td>\n",
       "      <td>768.000000</td>\n",
       "      <td>0.000363</td>\n",
       "      <td>1.000000</td>\n",
       "      <td>0.000000</td>\n",
       "      <td>-0.047726</td>\n",
       "    </tr>\n",
       "    <tr>\n",
       "      <th>25%</th>\n",
       "      <td>2.675702e+06</td>\n",
       "      <td>180.000000</td>\n",
       "      <td>1.000000</td>\n",
       "      <td>363292.000000</td>\n",
       "      <td>496591.000000</td>\n",
       "      <td>16106.000000</td>\n",
       "      <td>16102.000000</td>\n",
       "      <td>496625.000000</td>\n",
       "      <td>20.000000</td>\n",
       "      <td>406.000000</td>\n",
       "      <td>170.000000</td>\n",
       "      <td>230.760000</td>\n",
       "      <td>1137.037500</td>\n",
       "      <td>1.993776</td>\n",
       "      <td>1.000000</td>\n",
       "      <td>1.066840</td>\n",
       "      <td>0.105299</td>\n",
       "    </tr>\n",
       "    <tr>\n",
       "      <th>50%</th>\n",
       "      <td>2.681300e+06</td>\n",
       "      <td>200.000000</td>\n",
       "      <td>1.000000</td>\n",
       "      <td>386569.000000</td>\n",
       "      <td>504052.000000</td>\n",
       "      <td>17132.000000</td>\n",
       "      <td>17128.000000</td>\n",
       "      <td>504063.000000</td>\n",
       "      <td>20.000000</td>\n",
       "      <td>512.000000</td>\n",
       "      <td>185.000000</td>\n",
       "      <td>230.760000</td>\n",
       "      <td>1264.200000</td>\n",
       "      <td>4.963984</td>\n",
       "      <td>3.000000</td>\n",
       "      <td>3.850694</td>\n",
       "      <td>0.442262</td>\n",
       "    </tr>\n",
       "    <tr>\n",
       "      <th>75%</th>\n",
       "      <td>2.686700e+06</td>\n",
       "      <td>260.000000</td>\n",
       "      <td>1.000000</td>\n",
       "      <td>404369.000000</td>\n",
       "      <td>510210.000000</td>\n",
       "      <td>17745.000000</td>\n",
       "      <td>17741.000000</td>\n",
       "      <td>510181.000000</td>\n",
       "      <td>20.000000</td>\n",
       "      <td>829.000000</td>\n",
       "      <td>200.000000</td>\n",
       "      <td>231.190000</td>\n",
       "      <td>1275.000000</td>\n",
       "      <td>14.844218</td>\n",
       "      <td>9.000000</td>\n",
       "      <td>12.414063</td>\n",
       "      <td>0.937037</td>\n",
       "    </tr>\n",
       "    <tr>\n",
       "      <th>max</th>\n",
       "      <td>2.691862e+06</td>\n",
       "      <td>1200.000000</td>\n",
       "      <td>2.000000</td>\n",
       "      <td>418576.000000</td>\n",
       "      <td>517530.000000</td>\n",
       "      <td>18062.000000</td>\n",
       "      <td>18058.000000</td>\n",
       "      <td>518140.000000</td>\n",
       "      <td>20.000000</td>\n",
       "      <td>991.000000</td>\n",
       "      <td>600.000000</td>\n",
       "      <td>457.610000</td>\n",
       "      <td>3250.000000</td>\n",
       "      <td>224.552297</td>\n",
       "      <td>1411.000000</td>\n",
       "      <td>222.986111</td>\n",
       "      <td>5.557421</td>\n",
       "    </tr>\n",
       "  </tbody>\n",
       "</table>\n",
       "</div>"
      ],
      "text/plain": [
       "       reservation_id         cost        seats      client_id    res_trip_id  \\\n",
       "count    3.533000e+03  3533.000000  3533.000000    3533.000000    3533.000000   \n",
       "mean     2.681275e+06   235.510048     1.234645  358323.476649  503499.451741   \n",
       "std      5.881861e+03   128.931335     0.423837   87740.242255    7449.348540   \n",
       "min      2.670159e+06    11.000000     1.000000      -1.000000  490438.000000   \n",
       "25%      2.675702e+06   180.000000     1.000000  363292.000000  496591.000000   \n",
       "50%      2.681300e+06   200.000000     1.000000  386569.000000  504052.000000   \n",
       "75%      2.686700e+06   260.000000     1.000000  404369.000000  510210.000000   \n",
       "max      2.691862e+06  1200.000000     2.000000  418576.000000  517530.000000   \n",
       "\n",
       "            stop_id  pickup_stop_id        trip_id  trip_seat_inventory  \\\n",
       "count   3533.000000     3533.000000    3903.000000          3903.000000   \n",
       "mean   16871.231248    16866.855364  503604.144248            19.387907   \n",
       "std      855.756893      856.086474    7373.295686             1.482748   \n",
       "min    13275.000000    13271.000000  490438.000000            10.000000   \n",
       "25%    16106.000000    16102.000000  496625.000000            20.000000   \n",
       "50%    17132.000000    17128.000000  504063.000000            20.000000   \n",
       "75%    17745.000000    17741.000000  510181.000000            20.000000   \n",
       "max    18062.000000    18058.000000  518140.000000            20.000000   \n",
       "\n",
       "            van_id   seat_price    km_google     trip_cpt  \\\n",
       "count  3903.000000  3903.000000  3903.000000  3903.000000   \n",
       "mean    603.102229   201.648219   215.709270  1251.336112   \n",
       "std     241.658459    95.862568    72.335907   412.984591   \n",
       "min      99.000000    11.000000     7.920000   768.000000   \n",
       "25%     406.000000   170.000000   230.760000  1137.037500   \n",
       "50%     512.000000   185.000000   230.760000  1264.200000   \n",
       "75%     829.000000   200.000000   231.190000  1275.000000   \n",
       "max     991.000000   600.000000   457.610000  3250.000000   \n",
       "\n",
       "       days_between_purchases  client_trip_number  days_between_trips  \\\n",
       "count             2453.000000         3903.000000         2822.000000   \n",
       "mean                12.890244          120.956188           11.177681   \n",
       "std                 20.420739          359.377102           19.548527   \n",
       "min                  0.000363            1.000000            0.000000   \n",
       "25%                  1.993776            1.000000            1.066840   \n",
       "50%                  4.963984            3.000000            3.850694   \n",
       "75%                 14.844218            9.000000           12.414063   \n",
       "max                224.552297         1411.000000          222.986111   \n",
       "\n",
       "       res_to_trip_days  \n",
       "count       3533.000000  \n",
       "mean           0.793394  \n",
       "std            1.000153  \n",
       "min           -0.047726  \n",
       "25%            0.105299  \n",
       "50%            0.442262  \n",
       "75%            0.937037  \n",
       "max            5.557421  "
      ]
     },
     "execution_count": 8,
     "metadata": {},
     "output_type": "execute_result"
    }
   ],
   "source": [
    "df.describe()"
   ]
  },
  {
   "cell_type": "markdown",
   "metadata": {},
   "source": [
    "### cost"
   ]
  },
  {
   "cell_type": "code",
   "execution_count": 38,
   "metadata": {},
   "outputs": [
    {
     "data": {
      "text/plain": [
       "<AxesSubplot:xlabel='cost', ylabel='Count'>"
      ]
     },
     "execution_count": 38,
     "metadata": {},
     "output_type": "execute_result"
    },
    {
     "data": {
      "image/png": "[encoded data removed]",
      "text/plain": [
       "<Figure size 432x288 with 1 Axes>"
      ]
     },
     "metadata": {
      "needs_background": "light"
     },
     "output_type": "display_data"
    }
   ],
   "source": [
    "sns.histplot(data=df, x='cost')"
   ]
  },
  {
   "cell_type": "code",
   "execution_count": 10,
   "metadata": {},
   "outputs": [
    {
     "data": {
      "text/plain": [
       "<AxesSubplot:xlabel='cost', ylabel='Count'>"
      ]
     },
     "execution_count": 10,
     "metadata": {},
     "output_type": "execute_result"
    },
    {
     "data": {
      "image/png": "[encoded data removed]",
      "text/plain": [
       "<Figure size 432x288 with 1 Axes>"
      ]
     },
     "metadata": {
      "needs_background": "light"
     },
     "output_type": "display_data"
    }
   ],
   "source": [
    "sns.histplot(data=df, x='cost', log_scale=True) # the typicall ride costs $200"
   ]
  },
  {
   "cell_type": "markdown",
   "metadata": {},
   "source": [
    "### seats"
   ]
  },
  {
   "cell_type": "code",
   "execution_count": 93,
   "metadata": {},
   "outputs": [
    {
     "data": {
      "text/plain": [
       "1.0    2696\n",
       "2.0     828\n",
       "Name: seats, dtype: int64"
      ]
     },
     "execution_count": 93,
     "metadata": {},
     "output_type": "execute_result"
    }
   ],
   "source": [
    "df.seats.value_counts()"
   ]
  },
  {
   "cell_type": "markdown",
   "metadata": {},
   "source": [
    "### trip_seat_inventory"
   ]
  },
  {
   "cell_type": "code",
   "execution_count": 11,
   "metadata": {},
   "outputs": [
    {
     "data": {
      "text/plain": [
       "<AxesSubplot:xlabel='trip_seat_inventory', ylabel='Count'>"
      ]
     },
     "execution_count": 11,
     "metadata": {},
     "output_type": "execute_result"
    },
    {
     "data": {
      "image/png": "[encoded data removed]",
      "text/plain": [
       "<Figure size 432x288 with 1 Axes>"
      ]
     },
     "metadata": {
      "needs_background": "light"
     },
     "output_type": "display_data"
    }
   ],
   "source": [
    "sns.histplot(data=df, x='trip_seat_inventory', discrete=True)"
   ]
  },
  {
   "cell_type": "markdown",
   "metadata": {},
   "source": [
    "### SEAT PRICE"
   ]
  },
  {
   "cell_type": "code",
   "execution_count": 12,
   "metadata": {},
   "outputs": [
    {
     "data": {
      "text/plain": [
       "<AxesSubplot:xlabel='seat_price', ylabel='Count'>"
      ]
     },
     "execution_count": 12,
     "metadata": {},
     "output_type": "execute_result"
    },
    {
     "data": {
      "image/png": "[encoded data removed]",
      "text/plain": [
       "<Figure size 432x288 with 1 Axes>"
      ]
     },
     "metadata": {
      "needs_background": "light"
     },
     "output_type": "display_data"
    }
   ],
   "source": [
    "sns.histplot(data=df, x='seat_price')"
   ]
  },
  {
   "cell_type": "code",
   "execution_count": 13,
   "metadata": {},
   "outputs": [
    {
     "data": {
      "text/plain": [
       "<AxesSubplot:xlabel='seat_price', ylabel='Count'>"
      ]
     },
     "execution_count": 13,
     "metadata": {},
     "output_type": "execute_result"
    },
    {
     "data": {
      "image/png": "[encoded data removed]",
      "text/plain": [
       "<Figure size 432x288 with 1 Axes>"
      ]
     },
     "metadata": {
      "needs_background": "light"
     },
     "output_type": "display_data"
    }
   ],
   "source": [
    "sns.histplot(data=df, x='seat_price', log_scale=True)\n",
    "\n",
    "# Similar behaviour to 'cost': the typicall seat price is $200.\n",
    "# What is the relationship between 'cost' and 'seat_price'?"
   ]
  },
  {
   "cell_type": "markdown",
   "metadata": {},
   "source": [
    "### km_google"
   ]
  },
  {
   "cell_type": "code",
   "execution_count": 14,
   "metadata": {},
   "outputs": [
    {
     "data": {
      "text/plain": [
       "230.76    1408\n",
       "231.19    1283\n",
       "120.47     416\n",
       "120.25     375\n",
       "397.73      94\n",
       "411.22      85\n",
       "100.35      40\n",
       "108.02      40\n",
       "7.92        35\n",
       "427.03      30\n",
       "217.29      26\n",
       "216.88      25\n",
       "457.45      19\n",
       "457.61      13\n",
       "388.79       7\n",
       "425.77       7\n",
       "Name: km_google, dtype: int64"
      ]
     },
     "execution_count": 14,
     "metadata": {},
     "output_type": "execute_result"
    }
   ],
   "source": [
    "df.km_google.value_counts()"
   ]
  },
  {
   "cell_type": "code",
   "execution_count": 16,
   "metadata": {},
   "outputs": [
    {
     "data": {
      "text/plain": [
       "<AxesSubplot:xlabel='km_google', ylabel='Count'>"
      ]
     },
     "execution_count": 16,
     "metadata": {},
     "output_type": "execute_result"
    },
    {
     "data": {
      "image/png": "[encoded data removed]",
      "text/plain": [
       "<Figure size 432x288 with 1 Axes>"
      ]
     },
     "metadata": {
      "needs_background": "light"
     },
     "output_type": "display_data"
    }
   ],
   "source": [
    "sns.histplot(data=df, x='km_google', log_scale=True, kde=True)"
   ]
  },
  {
   "cell_type": "markdown",
   "metadata": {},
   "source": [
    "### trip_cpt"
   ]
  },
  {
   "cell_type": "code",
   "execution_count": 17,
   "metadata": {},
   "outputs": [
    {
     "data": {
      "text/plain": [
       "<AxesSubplot:xlabel='trip_cpt', ylabel='Count'>"
      ]
     },
     "execution_count": 17,
     "metadata": {},
     "output_type": "execute_result"
    },
    {
     "data": {
      "image/png": "[encoded data removed]",
      "text/plain": [
       "<Figure size 432x288 with 1 Axes>"
      ]
     },
     "metadata": {
      "needs_background": "light"
     },
     "output_type": "display_data"
    }
   ],
   "source": [
    "sns.histplot(data=df, x='trip_cpt', kde=True)  # what does CPT stands for, Carriage Paid To?"
   ]
  },
  {
   "cell_type": "code",
   "execution_count": 18,
   "metadata": {},
   "outputs": [
    {
     "data": {
      "text/plain": [
       "<AxesSubplot:xlabel='trip_cpt', ylabel='Count'>"
      ]
     },
     "execution_count": 18,
     "metadata": {},
     "output_type": "execute_result"
    },
    {
     "data": {
      "image/png": "[encoded data removed]",
      "text/plain": [
       "<Figure size 432x288 with 1 Axes>"
      ]
     },
     "metadata": {
      "needs_background": "light"
     },
     "output_type": "display_data"
    }
   ],
   "source": [
    "sns.histplot(data=df, x='trip_cpt', log_scale=True, kde=True)"
   ]
  },
  {
   "cell_type": "markdown",
   "metadata": {},
   "source": [
    "### days_between_purchases"
   ]
  },
  {
   "cell_type": "code",
   "execution_count": 19,
   "metadata": {},
   "outputs": [
    {
     "data": {
      "text/plain": [
       "<AxesSubplot:xlabel='days_between_purchases', ylabel='Count'>"
      ]
     },
     "execution_count": 19,
     "metadata": {},
     "output_type": "execute_result"
    },
    {
     "data": {
      "image/png": "[encoded data removed]",
      "text/plain": [
       "<Figure size 432x288 with 1 Axes>"
      ]
     },
     "metadata": {
      "needs_background": "light"
     },
     "output_type": "display_data"
    }
   ],
   "source": [
    "sns.histplot(data=df, x='days_between_purchases', log_scale=True) # the typicall user buys within 10 days"
   ]
  },
  {
   "cell_type": "markdown",
   "metadata": {},
   "source": [
    "### client_trip_number"
   ]
  },
  {
   "cell_type": "code",
   "execution_count": 98,
   "metadata": {},
   "outputs": [
    {
     "data": {
      "text/plain": [
       "count    3524.000000\n",
       "mean        5.176504\n",
       "std         6.428016\n",
       "min         1.000000\n",
       "25%         1.000000\n",
       "50%         3.000000\n",
       "75%         6.000000\n",
       "max        45.000000\n",
       "Name: client_trip_number, dtype: float64"
      ]
     },
     "execution_count": 98,
     "metadata": {},
     "output_type": "execute_result"
    }
   ],
   "source": [
    "df.client_trip_number.describe()"
   ]
  },
  {
   "cell_type": "code",
   "execution_count": 100,
   "metadata": {},
   "outputs": [
    {
     "data": {
      "image/png": "[encoded data removed]",
      "text/plain": [
       "<Figure size 432x288 with 1 Axes>"
      ]
     },
     "metadata": {
      "needs_background": "light"
     },
     "output_type": "display_data"
    }
   ],
   "source": [
    "fig = sns.histplot(data=df, x='client_trip_number', log_scale=True)\n",
    "\n",
    "fig = fig.get_figure()\n",
    "fig.savefig('img/client_trip.png') "
   ]
  },
  {
   "cell_type": "markdown",
   "metadata": {},
   "source": [
    "### days_between_trips"
   ]
  },
  {
   "cell_type": "code",
   "execution_count": 21,
   "metadata": {},
   "outputs": [
    {
     "data": {
      "text/plain": [
       "<AxesSubplot:xlabel='days_between_trips', ylabel='Count'>"
      ]
     },
     "execution_count": 21,
     "metadata": {},
     "output_type": "execute_result"
    },
    {
     "data": {
      "image/png": "[encoded data removed]",
      "text/plain": [
       "<Figure size 432x288 with 1 Axes>"
      ]
     },
     "metadata": {
      "needs_background": "light"
     },
     "output_type": "display_data"
    }
   ],
   "source": [
    "sns.histplot(data=df[df.days_between_trips > 0], x='days_between_trips', log_scale=True) # very similar behaviour to days_between_purchases"
   ]
  },
  {
   "cell_type": "markdown",
   "metadata": {},
   "source": [
    "### res_to_trip_days"
   ]
  },
  {
   "cell_type": "code",
   "execution_count": 22,
   "metadata": {},
   "outputs": [
    {
     "name": "stderr",
     "output_type": "stream",
     "text": [
      "C:\\ProgramData\\Anaconda3\\lib\\site-packages\\pandas\\core\\series.py:726: RuntimeWarning: invalid value encountered in log10\n",
      "  result = getattr(ufunc, method)(*inputs, **kwargs)\n"
     ]
    },
    {
     "data": {
      "text/plain": [
       "<AxesSubplot:xlabel='res_to_trip_days', ylabel='Count'>"
      ]
     },
     "execution_count": 22,
     "metadata": {},
     "output_type": "execute_result"
    },
    {
     "data": {
      "image/png": "[encoded data removed]",
      "text/plain": [
       "<Figure size 432x288 with 1 Axes>"
      ]
     },
     "metadata": {
      "needs_background": "light"
     },
     "output_type": "display_data"
    }
   ],
   "source": [
    "sns.histplot(data=df, x='res_to_trip_days', log_scale=True) # I don't understand this metric"
   ]
  }
 ],
 "metadata": {
  "kernelspec": {
   "display_name": "Python 3",
   "language": "python",
   "name": "python3"
  },
  "language_info": {
   "codemirror_mode": {
    "name": "ipython",
    "version": 3
   },
   "file_extension": ".py",
   "mimetype": "text/x-python",
   "name": "python",
   "nbconvert_exporter": "python",
   "pygments_lexer": "ipython3",
   "version": "3.8.5"
  }
 },
 "nbformat": 4,
 "nbformat_minor": 4
}
