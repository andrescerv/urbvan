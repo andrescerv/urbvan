{
 "cells": [
  {
   "cell_type": "markdown",
   "metadata": {},
   "source": [
    "# UNIVARIATE ANALYSIS\n",
    "\n",
    "## CATEGORICAL COLUMNS"
   ]
  },
  {
   "cell_type": "code",
   "execution_count": 3,
   "metadata": {},
   "outputs": [],
   "source": [
    "import numpy as np\n",
    "import pandas as pd\n",
    "import matplotlib.pyplot as plt\n",
    "import seaborn as sns\n",
    "\n",
    "date_cols = [\n",
    "    'reservation_created_at',\n",
    "    'trip_month',\n",
    "    'trip_week',\n",
    "    'trip_day',\n",
    "    'trip_period',\n",
    "    'client_first_reservation',\n",
    "    'client_prev_reservation',\n",
    "    'client_next_reservation',\n",
    "    'client_last_reservation',\n",
    "    'client_first_trip',\n",
    "    'client_prev_trip',\n",
    "    'client_next_trip',\n",
    "    'client_last_trip'\n",
    "]\n",
    "\n",
    "col_types = {'reservation_id':'int'}\n",
    "\n",
    "\n",
    "original_df = pd.read_csv('data.csv', parse_dates=date_cols)\n",
    "df = original_df.copy()"
   ]
  },
  {
   "cell_type": "code",
   "execution_count": 4,
   "metadata": {},
   "outputs": [
    {
     "data": {
      "text/html": [
       "<div>\n",
       "<style scoped>\n",
       "    .dataframe tbody tr th:only-of-type {\n",
       "        vertical-align: middle;\n",
       "    }\n",
       "\n",
       "    .dataframe tbody tr th {\n",
       "        vertical-align: top;\n",
       "    }\n",
       "\n",
       "    .dataframe thead th {\n",
       "        text-align: right;\n",
       "    }\n",
       "</style>\n",
       "<table border=\"1\" class=\"dataframe\">\n",
       "  <thead>\n",
       "    <tr style=\"text-align: right;\">\n",
       "      <th></th>\n",
       "      <th>source</th>\n",
       "      <th>reservation_confirmed</th>\n",
       "      <th>reservation_finished</th>\n",
       "      <th>successfully_charged</th>\n",
       "      <th>reservation_active</th>\n",
       "      <th>trip_itinerary</th>\n",
       "      <th>route_name</th>\n",
       "      <th>line_name</th>\n",
       "      <th>client_first_route</th>\n",
       "      <th>client_prev_route</th>\n",
       "      <th>client_next_route</th>\n",
       "      <th>client_last_route</th>\n",
       "    </tr>\n",
       "  </thead>\n",
       "  <tbody>\n",
       "    <tr>\n",
       "      <th>count</th>\n",
       "      <td>3533</td>\n",
       "      <td>3533</td>\n",
       "      <td>3533</td>\n",
       "      <td>3533</td>\n",
       "      <td>3533</td>\n",
       "      <td>3903</td>\n",
       "      <td>3903</td>\n",
       "      <td>3903</td>\n",
       "      <td>3903</td>\n",
       "      <td>2822</td>\n",
       "      <td>2677</td>\n",
       "      <td>3903</td>\n",
       "    </tr>\n",
       "    <tr>\n",
       "      <th>unique</th>\n",
       "      <td>2</td>\n",
       "      <td>2</td>\n",
       "      <td>1</td>\n",
       "      <td>1</td>\n",
       "      <td>1</td>\n",
       "      <td>77</td>\n",
       "      <td>16</td>\n",
       "      <td>7</td>\n",
       "      <td>18</td>\n",
       "      <td>16</td>\n",
       "      <td>19</td>\n",
       "      <td>16</td>\n",
       "    </tr>\n",
       "    <tr>\n",
       "      <th>top</th>\n",
       "      <td>App</td>\n",
       "      <td>True</td>\n",
       "      <td>False</td>\n",
       "      <td>True</td>\n",
       "      <td>True</td>\n",
       "      <td>16:00:00</td>\n",
       "      <td>Querétaro - CDMX</td>\n",
       "      <td>Querétaro - CDMX</td>\n",
       "      <td>Querétaro - CDMX</td>\n",
       "      <td>Querétaro - CDMX</td>\n",
       "      <td>Querétaro - CDMX</td>\n",
       "      <td>Querétaro - CDMX</td>\n",
       "    </tr>\n",
       "    <tr>\n",
       "      <th>freq</th>\n",
       "      <td>3524</td>\n",
       "      <td>3237</td>\n",
       "      <td>3533</td>\n",
       "      <td>3533</td>\n",
       "      <td>3533</td>\n",
       "      <td>206</td>\n",
       "      <td>1408</td>\n",
       "      <td>2691</td>\n",
       "      <td>1970</td>\n",
       "      <td>1046</td>\n",
       "      <td>930</td>\n",
       "      <td>1409</td>\n",
       "    </tr>\n",
       "  </tbody>\n",
       "</table>\n",
       "</div>"
      ],
      "text/plain": [
       "       source reservation_confirmed reservation_finished successfully_charged  \\\n",
       "count    3533                  3533                 3533                 3533   \n",
       "unique      2                     2                    1                    1   \n",
       "top       App                  True                False                 True   \n",
       "freq     3524                  3237                 3533                 3533   \n",
       "\n",
       "       reservation_active trip_itinerary        route_name         line_name  \\\n",
       "count                3533           3903              3903              3903   \n",
       "unique                  1             77                16                 7   \n",
       "top                  True       16:00:00  Querétaro - CDMX  Querétaro - CDMX   \n",
       "freq                 3533            206              1408              2691   \n",
       "\n",
       "       client_first_route client_prev_route client_next_route  \\\n",
       "count                3903              2822              2677   \n",
       "unique                 18                16                19   \n",
       "top      Querétaro - CDMX  Querétaro - CDMX  Querétaro - CDMX   \n",
       "freq                 1970              1046               930   \n",
       "\n",
       "       client_last_route  \n",
       "count               3903  \n",
       "unique                16  \n",
       "top     Querétaro - CDMX  \n",
       "freq                1409  "
      ]
     },
     "execution_count": 4,
     "metadata": {},
     "output_type": "execute_result"
    }
   ],
   "source": [
    "df.select_dtypes(include='object').describe()"
   ]
  },
  {
   "cell_type": "markdown",
   "metadata": {},
   "source": [
    "### source"
   ]
  },
  {
   "cell_type": "code",
   "execution_count": 30,
   "metadata": {},
   "outputs": [
    {
     "data": {
      "text/plain": [
       "App    3524\n",
       "Web       9\n",
       "Name: source, dtype: int64"
      ]
     },
     "execution_count": 30,
     "metadata": {},
     "output_type": "execute_result"
    }
   ],
   "source": [
    "df.source.value_counts() # web is not being used"
   ]
  },
  {
   "cell_type": "markdown",
   "metadata": {},
   "source": [
    "### reservation_confirmed"
   ]
  },
  {
   "cell_type": "code",
   "execution_count": 6,
   "metadata": {},
   "outputs": [
    {
     "data": {
      "text/plain": [
       "True     3237\n",
       "False     296\n",
       "Name: reservation_confirmed, dtype: int64"
      ]
     },
     "execution_count": 6,
     "metadata": {},
     "output_type": "execute_result"
    }
   ],
   "source": [
    "df.reservation_confirmed.value_counts()"
   ]
  },
  {
   "cell_type": "markdown",
   "metadata": {},
   "source": [
    "### route_name\t"
   ]
  },
  {
   "cell_type": "code",
   "execution_count": 22,
   "metadata": {},
   "outputs": [
    {
     "data": {
      "text/plain": [
       "Querétaro - CDMX                  1408\n",
       "CDMX - Querétaro                  1283\n",
       "CDMX - Tepoztlán - Cuernavaca      416\n",
       "Cuernavaca - Tepoztlán - CDMX      375\n",
       "Querétaro - Guadalajara vieja       94\n",
       "Guadalajara - Querétaro vieja       85\n",
       "CDMX - Pachuca                      40\n",
       "Pachuca - CDMX                      40\n",
       "Veracruz - Cdmx                     35\n",
       "Cdmx - Veracruz                     30\n",
       "Querétaro - Morelia                 26\n",
       "Morelia - Querétaro                 25\n",
       "CDMX - Acapulco                     19\n",
       "Acapulco - CDMX                     13\n",
       "Guadalajara - Querétaro              7\n",
       "Querétaro - Guadalajara              7\n",
       "Name: route_name, dtype: int64"
      ]
     },
     "execution_count": 22,
     "metadata": {},
     "output_type": "execute_result"
    }
   ],
   "source": [
    "df.route_name.value_counts()"
   ]
  },
  {
   "cell_type": "markdown",
   "metadata": {},
   "source": [
    "### line_name"
   ]
  },
  {
   "cell_type": "code",
   "execution_count": 23,
   "metadata": {},
   "outputs": [
    {
     "data": {
      "text/plain": [
       "Querétaro - CDMX           2691\n",
       "Cuernavaca - CDMX           791\n",
       "Querétaro - Guadalajara     193\n",
       "Pachuca - CDMX               80\n",
       "Veracruz - Cdmx              65\n",
       "Querétaro - Morelia          51\n",
       "Acapulco - CDMX              32\n",
       "Name: line_name, dtype: int64"
      ]
     },
     "execution_count": 23,
     "metadata": {},
     "output_type": "execute_result"
    }
   ],
   "source": [
    "df.line_name.value_counts() # 'Querétaro - Guadalajara' incluye las rutas nueva y vieja"
   ]
  },
  {
   "cell_type": "code",
   "execution_count": 61,
   "metadata": {},
   "outputs": [
    {
     "data": {
      "text/plain": [
       "Querétaro - CDMX           0.689470\n",
       "Cuernavaca - CDMX          0.202665\n",
       "Querétaro - Guadalajara    0.049449\n",
       "Pachuca - CDMX             0.020497\n",
       "Veracruz - Cdmx            0.016654\n",
       "Querétaro - Morelia        0.013067\n",
       "Acapulco - CDMX            0.008199\n",
       "Name: line_name, dtype: float64"
      ]
     },
     "execution_count": 61,
     "metadata": {},
     "output_type": "execute_result"
    }
   ],
   "source": [
    "df.line_name.value_counts(normalize=True)"
   ]
  },
  {
   "cell_type": "code",
   "execution_count": 60,
   "metadata": {},
   "outputs": [
    {
     "data": {
      "image/png": "[encoded data removed]",
      "text/plain": [
       "<Figure size 864x432 with 1 Axes>"
      ]
     },
     "metadata": {
      "needs_background": "light"
     },
     "output_type": "display_data"
    }
   ],
   "source": [
    "fig, ax = plt.subplots(figsize = (12,6))\n",
    "\n",
    "g = sns.countplot(data=df, x='line_name')\n",
    "fig = g.get_figure()\n",
    "plt.xticks(rotation=90)\n",
    "\n",
    "fig.savefig('img/lines.png') \n",
    "\n",
    "None"
   ]
  },
  {
   "cell_type": "markdown",
   "metadata": {},
   "source": [
    "### client_first_route"
   ]
  },
  {
   "cell_type": "code",
   "execution_count": 24,
   "metadata": {},
   "outputs": [
    {
     "data": {
      "text/plain": [
       "Querétaro - CDMX                  1970\n",
       "CDMX - Querétaro                  1078\n",
       "CDMX - Tepoztlán - Cuernavaca      414\n",
       "Cuernavaca - Tepoztlán - CDMX      263\n",
       "Querétaro - Guadalajara vieja       38\n",
       "Guadalajara - Querétaro vieja       23\n",
       "Cdmx - Veracruz                     20\n",
       "CDMX - Acapulco                     17\n",
       "CDMX - Pachuca                      15\n",
       "Pachuca - CDMX                      14\n",
       "Veracruz - Cdmx                     12\n",
       "CDMX - Cuernavaca                   12\n",
       "Acapulco - CDMX                      7\n",
       "Querétaro - Morelia                  7\n",
       "Morelia - Querétaro                  5\n",
       "Querétaro - Guadalajara              4\n",
       "Cuernavaca - CDMX                    2\n",
       "Guadalajara - Querétaro              2\n",
       "Name: client_first_route, dtype: int64"
      ]
     },
     "execution_count": 24,
     "metadata": {},
     "output_type": "execute_result"
    }
   ],
   "source": [
    "df.client_first_route.value_counts()"
   ]
  },
  {
   "cell_type": "markdown",
   "metadata": {},
   "source": [
    "### client_prev_route"
   ]
  },
  {
   "cell_type": "code",
   "execution_count": 26,
   "metadata": {},
   "outputs": [
    {
     "data": {
      "text/plain": [
       "Querétaro - CDMX                  1046\n",
       "CDMX - Querétaro                   944\n",
       "CDMX - Tepoztlán - Cuernavaca      304\n",
       "Cuernavaca - Tepoztlán - CDMX      238\n",
       "Querétaro - Guadalajara vieja       74\n",
       "Guadalajara - Querétaro vieja       72\n",
       "CDMX - Pachuca                      28\n",
       "Pachuca - CDMX                      28\n",
       "Querétaro - Morelia                 22\n",
       "Cdmx - Veracruz                     21\n",
       "Morelia - Querétaro                 18\n",
       "Veracruz - Cdmx                     15\n",
       "Acapulco - CDMX                      5\n",
       "Guadalajara - Querétaro              4\n",
       "Querétaro - Guadalajara              2\n",
       "CDMX - Acapulco                      1\n",
       "Name: client_prev_route, dtype: int64"
      ]
     },
     "execution_count": 26,
     "metadata": {},
     "output_type": "execute_result"
    }
   ],
   "source": [
    "df.client_prev_route.value_counts()"
   ]
  },
  {
   "cell_type": "markdown",
   "metadata": {},
   "source": [
    "### client_next_route"
   ]
  },
  {
   "cell_type": "code",
   "execution_count": 27,
   "metadata": {},
   "outputs": [
    {
     "data": {
      "text/plain": [
       "Querétaro - CDMX                  930\n",
       "CDMX - Querétaro                  909\n",
       "Cuernavaca - Tepoztlán - CDMX     283\n",
       "CDMX - Tepoztlán - Cuernavaca     245\n",
       "Guadalajara - Querétaro vieja      69\n",
       "Querétaro - Guadalajara vieja      64\n",
       "Pachuca - CDMX                     29\n",
       "CDMX - Pachuca                     28\n",
       "Veracruz - Cdmx                    25\n",
       "Querétaro - Morelia                25\n",
       "Morelia - Querétaro                22\n",
       "Cdmx - Veracruz                    16\n",
       "Acapulco - CDMX                     9\n",
       "Guadalajara - Querétaro             7\n",
       "Querétaro - Guadalajara             6\n",
       "CDMX - Tequisquiapan                5\n",
       "CDMX - Acapulco                     3\n",
       "León - Querétaro                    1\n",
       "Puebla - CDMX                       1\n",
       "Name: client_next_route, dtype: int64"
      ]
     },
     "execution_count": 27,
     "metadata": {},
     "output_type": "execute_result"
    }
   ],
   "source": [
    "df.client_next_route.value_counts()"
   ]
  },
  {
   "cell_type": "markdown",
   "metadata": {},
   "source": [
    "### client_last_route"
   ]
  },
  {
   "cell_type": "code",
   "execution_count": 28,
   "metadata": {},
   "outputs": [
    {
     "data": {
      "text/plain": [
       "Querétaro - CDMX                  930\n",
       "CDMX - Querétaro                  909\n",
       "Cuernavaca - Tepoztlán - CDMX     283\n",
       "CDMX - Tepoztlán - Cuernavaca     245\n",
       "Guadalajara - Querétaro vieja      69\n",
       "Querétaro - Guadalajara vieja      64\n",
       "Pachuca - CDMX                     29\n",
       "CDMX - Pachuca                     28\n",
       "Veracruz - Cdmx                    25\n",
       "Querétaro - Morelia                25\n",
       "Morelia - Querétaro                22\n",
       "Cdmx - Veracruz                    16\n",
       "Acapulco - CDMX                     9\n",
       "Guadalajara - Querétaro             7\n",
       "Querétaro - Guadalajara             6\n",
       "CDMX - Tequisquiapan                5\n",
       "CDMX - Acapulco                     3\n",
       "León - Querétaro                    1\n",
       "Puebla - CDMX                       1\n",
       "Name: client_next_route, dtype: int64"
      ]
     },
     "execution_count": 28,
     "metadata": {},
     "output_type": "execute_result"
    }
   ],
   "source": [
    "df.client_next_route.value_counts()"
   ]
  },
  {
   "cell_type": "markdown",
   "metadata": {},
   "source": [
    "# CONLUSIONS:\n",
    "\n",
    "1. Web is not being used (only 9 registers from 3.5k)\n",
    "1. The route QRO-CDMX is by far our best route. Efforts should be conducted towards this route or similar."
   ]
  }
 ],
 "metadata": {
  "kernelspec": {
   "display_name": "Python 3",
   "language": "python",
   "name": "python3"
  },
  "language_info": {
   "codemirror_mode": {
    "name": "ipython",
    "version": 3
   },
   "file_extension": ".py",
   "mimetype": "text/x-python",
   "name": "python",
   "nbconvert_exporter": "python",
   "pygments_lexer": "ipython3",
   "version": "3.8.5"
  }
 },
 "nbformat": 4,
 "nbformat_minor": 4
}
