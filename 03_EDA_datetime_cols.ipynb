{
 "cells": [
  {
   "cell_type": "markdown",
   "metadata": {},
   "source": [
    "# UNIVARIATE ANALYSIS\n",
    "\n",
    "## DATETIME COLUMNS"
   ]
  },
  {
   "cell_type": "code",
   "execution_count": 1,
   "metadata": {},
   "outputs": [],
   "source": [
    "import numpy as np\n",
    "import pandas as pd\n",
    "import matplotlib.pyplot as plt\n",
    "import seaborn as sns\n",
    "\n",
    "date_cols = [\n",
    "    'reservation_created_at',\n",
    "    'trip_month',\n",
    "    'trip_week',\n",
    "    'trip_day',\n",
    "    'trip_period',\n",
    "    'trip_itinerary',\n",
    "    'client_first_reservation',\n",
    "    'client_prev_reservation',\n",
    "    'client_next_reservation',\n",
    "    'client_last_reservation',\n",
    "    'client_first_trip',\n",
    "    'client_prev_trip',\n",
    "    'client_next_trip',\n",
    "    'client_last_trip'\n",
    "]\n",
    "\n",
    "original_df = pd.read_csv('data.csv')\n",
    "df = original_df.copy()"
   ]
  },
  {
   "cell_type": "code",
   "execution_count": 7,
   "metadata": {},
   "outputs": [],
   "source": [
    "for col in date_cols:\n",
    "    df[col] = df[col].apply(lambda x: pd.to_datetime(x, dayfirst=True))\n",
    "    \n",
    "df.trip_itinerary = df.trip_itinerary.dt.time"
   ]
  },
  {
   "cell_type": "code",
   "execution_count": 9,
   "metadata": {},
   "outputs": [
    {
     "data": {
      "text/html": [
       "<div>\n",
       "<style scoped>\n",
       "    .dataframe tbody tr th:only-of-type {\n",
       "        vertical-align: middle;\n",
       "    }\n",
       "\n",
       "    .dataframe tbody tr th {\n",
       "        vertical-align: top;\n",
       "    }\n",
       "\n",
       "    .dataframe thead th {\n",
       "        text-align: right;\n",
       "    }\n",
       "</style>\n",
       "<table border=\"1\" class=\"dataframe\">\n",
       "  <thead>\n",
       "    <tr style=\"text-align: right;\">\n",
       "      <th></th>\n",
       "      <th>reservation_created_at</th>\n",
       "      <th>trip_month</th>\n",
       "      <th>trip_week</th>\n",
       "      <th>trip_day</th>\n",
       "      <th>trip_period</th>\n",
       "      <th>trip_itinerary</th>\n",
       "      <th>client_first_reservation</th>\n",
       "      <th>client_prev_reservation</th>\n",
       "      <th>client_next_reservation</th>\n",
       "      <th>client_last_reservation</th>\n",
       "      <th>client_first_trip</th>\n",
       "      <th>client_prev_trip</th>\n",
       "      <th>client_next_trip</th>\n",
       "      <th>client_last_trip</th>\n",
       "    </tr>\n",
       "  </thead>\n",
       "  <tbody>\n",
       "    <tr>\n",
       "      <th>count</th>\n",
       "      <td>3533</td>\n",
       "      <td>3903</td>\n",
       "      <td>3903</td>\n",
       "      <td>3903</td>\n",
       "      <td>3903</td>\n",
       "      <td>3903</td>\n",
       "      <td>3533</td>\n",
       "      <td>2453</td>\n",
       "      <td>2305</td>\n",
       "      <td>3533</td>\n",
       "      <td>3903</td>\n",
       "      <td>2822</td>\n",
       "      <td>2677</td>\n",
       "      <td>3903</td>\n",
       "    </tr>\n",
       "    <tr>\n",
       "      <th>mean</th>\n",
       "      <td>2021-04-14 20:28:39.399942656</td>\n",
       "      <td>2021-03-31 23:59:59.999893760</td>\n",
       "      <td>2021-04-11 21:45:42.198346496</td>\n",
       "      <td>2021-04-15 06:36:14.942359296</td>\n",
       "      <td>2021-03-31 23:59:59.999893760</td>\n",
       "      <td>2021-12-24 12:40:58.093776128</td>\n",
       "      <td>2021-03-05 07:51:08.780070656</td>\n",
       "      <td>2021-04-02 07:02:48.748471552</td>\n",
       "      <td>2021-04-23 01:36:06.403472896</td>\n",
       "      <td>2021-04-28 09:14:19.682986496</td>\n",
       "      <td>2021-02-14 12:35:00.153775616</td>\n",
       "      <td>2021-04-04 22:00:40.418146048</td>\n",
       "      <td>2021-04-22 22:22:33.866264576</td>\n",
       "      <td>2021-05-02 05:19:50.407357184</td>\n",
       "    </tr>\n",
       "    <tr>\n",
       "      <th>min</th>\n",
       "      <td>2021-03-27 12:11:00</td>\n",
       "      <td>2021-04-01 00:00:00</td>\n",
       "      <td>2021-03-29 00:00:00</td>\n",
       "      <td>2021-04-01 00:00:00</td>\n",
       "      <td>2021-04-01 00:00:00</td>\n",
       "      <td>2021-12-24 05:00:00</td>\n",
       "      <td>2020-08-08 19:07:00</td>\n",
       "      <td>2020-09-08 08:11:00</td>\n",
       "      <td>2021-03-30 09:28:00</td>\n",
       "      <td>2021-03-27 12:11:00</td>\n",
       "      <td>2020-08-10 05:33:00</td>\n",
       "      <td>2020-09-10 06:20:00</td>\n",
       "      <td>2021-04-01 08:00:00</td>\n",
       "      <td>2021-04-01 05:30:00</td>\n",
       "    </tr>\n",
       "    <tr>\n",
       "      <th>25%</th>\n",
       "      <td>2021-04-06 09:19:00</td>\n",
       "      <td>2021-04-01 00:00:00</td>\n",
       "      <td>2021-04-05 00:00:00</td>\n",
       "      <td>2021-04-07 00:00:00</td>\n",
       "      <td>2021-04-01 00:00:00</td>\n",
       "      <td>2021-12-24 08:00:00</td>\n",
       "      <td>2021-02-08 14:30:00</td>\n",
       "      <td>2021-03-28 06:21:00</td>\n",
       "      <td>2021-04-13 09:36:00</td>\n",
       "      <td>2021-04-14 09:55:00</td>\n",
       "      <td>2021-01-18 06:20:00</td>\n",
       "      <td>2021-03-30 17:10:00</td>\n",
       "      <td>2021-04-12 18:35:00</td>\n",
       "      <td>2021-04-17 07:40:00</td>\n",
       "    </tr>\n",
       "    <tr>\n",
       "      <th>50%</th>\n",
       "      <td>2021-04-14 21:46:00</td>\n",
       "      <td>2021-04-01 00:00:00</td>\n",
       "      <td>2021-04-12 00:00:00</td>\n",
       "      <td>2021-04-16 00:00:00</td>\n",
       "      <td>2021-04-01 00:00:00</td>\n",
       "      <td>2021-12-24 13:00:00</td>\n",
       "      <td>2021-03-29 09:57:00</td>\n",
       "      <td>2021-04-05 19:10:00</td>\n",
       "      <td>2021-04-23 14:28:00</td>\n",
       "      <td>2021-04-28 10:37:00</td>\n",
       "      <td>2021-03-20 11:00:00</td>\n",
       "      <td>2021-04-09 05:45:00</td>\n",
       "      <td>2021-04-23 11:00:00</td>\n",
       "      <td>2021-05-01 07:00:00</td>\n",
       "    </tr>\n",
       "    <tr>\n",
       "      <th>75%</th>\n",
       "      <td>2021-04-22 23:59:00</td>\n",
       "      <td>2021-04-01 00:00:00</td>\n",
       "      <td>2021-04-19 00:00:00</td>\n",
       "      <td>2021-04-23 00:00:00</td>\n",
       "      <td>2021-04-01 00:00:00</td>\n",
       "      <td>2021-12-24 16:30:00</td>\n",
       "      <td>2021-04-11 14:32:00</td>\n",
       "      <td>2021-04-16 09:50:00</td>\n",
       "      <td>2021-05-01 00:19:00</td>\n",
       "      <td>2021-05-13 22:51:00</td>\n",
       "      <td>2021-04-10 10:15:00</td>\n",
       "      <td>2021-04-18 08:52:30</td>\n",
       "      <td>2021-04-30 17:30:00</td>\n",
       "      <td>2021-05-17 14:15:00</td>\n",
       "    </tr>\n",
       "    <tr>\n",
       "      <th>max</th>\n",
       "      <td>2021-04-30 18:45:00</td>\n",
       "      <td>2021-04-01 00:00:00</td>\n",
       "      <td>2021-04-26 00:00:00</td>\n",
       "      <td>2021-04-30 00:00:00</td>\n",
       "      <td>2021-04-01 00:00:00</td>\n",
       "      <td>2021-12-24 22:00:00</td>\n",
       "      <td>2021-04-30 18:15:00</td>\n",
       "      <td>2021-04-30 14:33:00</td>\n",
       "      <td>2021-05-22 20:00:00</td>\n",
       "      <td>2021-05-22 21:10:00</td>\n",
       "      <td>2021-04-30 19:35:00</td>\n",
       "      <td>2021-04-30 16:15:00</td>\n",
       "      <td>2021-05-24 09:30:00</td>\n",
       "      <td>2021-05-31 20:00:00</td>\n",
       "    </tr>\n",
       "  </tbody>\n",
       "</table>\n",
       "</div>"
      ],
      "text/plain": [
       "              reservation_created_at                     trip_month  \\\n",
       "count                           3533                           3903   \n",
       "mean   2021-04-14 20:28:39.399942656  2021-03-31 23:59:59.999893760   \n",
       "min              2021-03-27 12:11:00            2021-04-01 00:00:00   \n",
       "25%              2021-04-06 09:19:00            2021-04-01 00:00:00   \n",
       "50%              2021-04-14 21:46:00            2021-04-01 00:00:00   \n",
       "75%              2021-04-22 23:59:00            2021-04-01 00:00:00   \n",
       "max              2021-04-30 18:45:00            2021-04-01 00:00:00   \n",
       "\n",
       "                           trip_week                       trip_day  \\\n",
       "count                           3903                           3903   \n",
       "mean   2021-04-11 21:45:42.198346496  2021-04-15 06:36:14.942359296   \n",
       "min              2021-03-29 00:00:00            2021-04-01 00:00:00   \n",
       "25%              2021-04-05 00:00:00            2021-04-07 00:00:00   \n",
       "50%              2021-04-12 00:00:00            2021-04-16 00:00:00   \n",
       "75%              2021-04-19 00:00:00            2021-04-23 00:00:00   \n",
       "max              2021-04-26 00:00:00            2021-04-30 00:00:00   \n",
       "\n",
       "                         trip_period                 trip_itinerary  \\\n",
       "count                           3903                           3903   \n",
       "mean   2021-03-31 23:59:59.999893760  2021-12-24 12:40:58.093776128   \n",
       "min              2021-04-01 00:00:00            2021-12-24 05:00:00   \n",
       "25%              2021-04-01 00:00:00            2021-12-24 08:00:00   \n",
       "50%              2021-04-01 00:00:00            2021-12-24 13:00:00   \n",
       "75%              2021-04-01 00:00:00            2021-12-24 16:30:00   \n",
       "max              2021-04-01 00:00:00            2021-12-24 22:00:00   \n",
       "\n",
       "            client_first_reservation        client_prev_reservation  \\\n",
       "count                           3533                           2453   \n",
       "mean   2021-03-05 07:51:08.780070656  2021-04-02 07:02:48.748471552   \n",
       "min              2020-08-08 19:07:00            2020-09-08 08:11:00   \n",
       "25%              2021-02-08 14:30:00            2021-03-28 06:21:00   \n",
       "50%              2021-03-29 09:57:00            2021-04-05 19:10:00   \n",
       "75%              2021-04-11 14:32:00            2021-04-16 09:50:00   \n",
       "max              2021-04-30 18:15:00            2021-04-30 14:33:00   \n",
       "\n",
       "             client_next_reservation        client_last_reservation  \\\n",
       "count                           2305                           3533   \n",
       "mean   2021-04-23 01:36:06.403472896  2021-04-28 09:14:19.682986496   \n",
       "min              2021-03-30 09:28:00            2021-03-27 12:11:00   \n",
       "25%              2021-04-13 09:36:00            2021-04-14 09:55:00   \n",
       "50%              2021-04-23 14:28:00            2021-04-28 10:37:00   \n",
       "75%              2021-05-01 00:19:00            2021-05-13 22:51:00   \n",
       "max              2021-05-22 20:00:00            2021-05-22 21:10:00   \n",
       "\n",
       "                   client_first_trip               client_prev_trip  \\\n",
       "count                           3903                           2822   \n",
       "mean   2021-02-14 12:35:00.153775616  2021-04-04 22:00:40.418146048   \n",
       "min              2020-08-10 05:33:00            2020-09-10 06:20:00   \n",
       "25%              2021-01-18 06:20:00            2021-03-30 17:10:00   \n",
       "50%              2021-03-20 11:00:00            2021-04-09 05:45:00   \n",
       "75%              2021-04-10 10:15:00            2021-04-18 08:52:30   \n",
       "max              2021-04-30 19:35:00            2021-04-30 16:15:00   \n",
       "\n",
       "                    client_next_trip               client_last_trip  \n",
       "count                           2677                           3903  \n",
       "mean   2021-04-22 22:22:33.866264576  2021-05-02 05:19:50.407357184  \n",
       "min              2021-04-01 08:00:00            2021-04-01 05:30:00  \n",
       "25%              2021-04-12 18:35:00            2021-04-17 07:40:00  \n",
       "50%              2021-04-23 11:00:00            2021-05-01 07:00:00  \n",
       "75%              2021-04-30 17:30:00            2021-05-17 14:15:00  \n",
       "max              2021-05-24 09:30:00            2021-05-31 20:00:00  "
      ]
     },
     "execution_count": 9,
     "metadata": {},
     "output_type": "execute_result"
    }
   ],
   "source": [
    "df[date_cols].describe(datetime_is_numeric=True)"
   ]
  },
  {
   "cell_type": "markdown",
   "metadata": {},
   "source": [
    "### reservation_created_at"
   ]
  },
  {
   "cell_type": "code",
   "execution_count": 42,
   "metadata": {},
   "outputs": [
    {
     "data": {
      "image/png": "[encoded data removed]",
      "text/plain": [
       "<Figure size 864x432 with 1 Axes>"
      ]
     },
     "metadata": {
      "needs_background": "light"
     },
     "output_type": "display_data"
    }
   ],
   "source": [
    "fig, ax = plt.subplots(figsize = (12,6))\n",
    "fig = sns.histplot(data=df, x='reservation_created_at')\n",
    "plt.xticks(rotation=45)\n",
    "None"
   ]
  },
  {
   "cell_type": "markdown",
   "metadata": {},
   "source": [
    "### trip_month"
   ]
  },
  {
   "cell_type": "code",
   "execution_count": 44,
   "metadata": {},
   "outputs": [
    {
     "data": {
      "text/plain": [
       "2021-04-01    3903\n",
       "Name: trip_month, dtype: int64"
      ]
     },
     "execution_count": 44,
     "metadata": {},
     "output_type": "execute_result"
    }
   ],
   "source": [
    "df.trip_month.value_counts()"
   ]
  },
  {
   "cell_type": "markdown",
   "metadata": {},
   "source": [
    "### trip_week"
   ]
  },
  {
   "cell_type": "code",
   "execution_count": 60,
   "metadata": {},
   "outputs": [
    {
     "data": {
      "text/plain": [
       "2021-04-19    923\n",
       "2021-04-12    838\n",
       "2021-04-05    833\n",
       "2021-03-29    690\n",
       "2021-04-26    619\n",
       "Name: trip_week, dtype: int64"
      ]
     },
     "execution_count": 60,
     "metadata": {},
     "output_type": "execute_result"
    }
   ],
   "source": [
    "df.trip_week.value_counts()"
   ]
  },
  {
   "cell_type": "code",
   "execution_count": 74,
   "metadata": {},
   "outputs": [
    {
     "data": {
      "image/png": "[encoded data removed]",
      "text/plain": [
       "<Figure size 864x432 with 1 Axes>"
      ]
     },
     "metadata": {
      "needs_background": "light"
     },
     "output_type": "display_data"
    }
   ],
   "source": [
    "fig, ax = plt.subplots(figsize = (12,6))\n",
    "\n",
    "fig = sns.histplot(data=df, x='trip_week')\n",
    "\n",
    "x_labels = df.trip_week.value_counts().index\n",
    "ax.set_xticks(x_labels)\n",
    "ax.set_xticklabels(df.trip_week.value_counts().index, rotation=45)\n",
    "None"
   ]
  },
  {
   "cell_type": "markdown",
   "metadata": {},
   "source": [
    "### trip_day"
   ]
  },
  {
   "cell_type": "code",
   "execution_count": 109,
   "metadata": {},
   "outputs": [
    {
     "data": {
      "image/png": "[encoded data removed]",
      "text/plain": [
       "<Figure size 864x432 with 1 Axes>"
      ]
     },
     "metadata": {
      "needs_background": "light"
     },
     "output_type": "display_data"
    }
   ],
   "source": [
    "fig, ax = plt.subplots(figsize = (12,6))\n",
    "\n",
    "fig = sns.histplot(data=df, x='trip_day', discrete=True)\n",
    "\n",
    "x_labels = ['2021-04-05','2021-04-12','2021-04-19','2021-04-26']\n",
    "ax.set_xticks(x_labels)\n",
    "ax.set_xticklabels(x_labels, rotation=45)\n",
    "\n",
    "fig = fig.get_figure()\n",
    "fig.savefig('img/week.png') \n",
    "\n",
    "None"
   ]
  },
  {
   "cell_type": "markdown",
   "metadata": {},
   "source": [
    "### trip_period"
   ]
  },
  {
   "cell_type": "code",
   "execution_count": 89,
   "metadata": {},
   "outputs": [
    {
     "data": {
      "text/plain": [
       "4    3903\n",
       "Name: trip_period, dtype: int64"
      ]
     },
     "execution_count": 89,
     "metadata": {},
     "output_type": "execute_result"
    }
   ],
   "source": [
    "pd.to_datetime(df.trip_period, dayfirst=True).dt.month.value_counts()"
   ]
  },
  {
   "cell_type": "markdown",
   "metadata": {},
   "source": [
    "### trip_itinerary"
   ]
  },
  {
   "cell_type": "code",
   "execution_count": 91,
   "metadata": {},
   "outputs": [
    {
     "data": {
      "text/plain": [
       "16:00:00    206\n",
       "13:00:00    194\n",
       "05:30:00    173\n",
       "07:40:00    173\n",
       "19:35:00    144\n",
       "           ... \n",
       "17:45:00      9\n",
       "14:15:00      8\n",
       "13:33:00      8\n",
       "07:20:00      5\n",
       "15:35:00      2\n",
       "Name: trip_itinerary, Length: 77, dtype: int64"
      ]
     },
     "execution_count": 91,
     "metadata": {},
     "output_type": "execute_result"
    }
   ],
   "source": [
    "df.trip_itinerary.value_counts()"
   ]
  },
  {
   "cell_type": "code",
   "execution_count": 96,
   "metadata": {},
   "outputs": [
    {
     "data": {
      "text/plain": [
       "array([datetime.time(5, 0), datetime.time(7, 35), datetime.time(7, 40),\n",
       "       datetime.time(18, 36), datetime.time(17, 10), datetime.time(9, 30),\n",
       "       datetime.time(13, 20), datetime.time(11, 0), datetime.time(19, 45),\n",
       "       datetime.time(16, 0), datetime.time(6, 20), datetime.time(19, 35),\n",
       "       datetime.time(19, 0), datetime.time(17, 30), datetime.time(10, 0),\n",
       "       datetime.time(11, 30), datetime.time(5, 30), datetime.time(7, 30),\n",
       "       datetime.time(13, 0), datetime.time(10, 30), datetime.time(13, 30),\n",
       "       datetime.time(5, 45), datetime.time(19, 15), datetime.time(17, 15),\n",
       "       datetime.time(20, 30), datetime.time(7, 10), datetime.time(15, 0),\n",
       "       datetime.time(14, 45), datetime.time(11, 40), datetime.time(9, 10),\n",
       "       datetime.time(16, 40), datetime.time(11, 20),\n",
       "       datetime.time(15, 15), datetime.time(7, 0), datetime.time(12, 40),\n",
       "       datetime.time(13, 15), datetime.time(6, 0), datetime.time(8, 0),\n",
       "       datetime.time(6, 45), datetime.time(18, 55), datetime.time(10, 40),\n",
       "       datetime.time(8, 15), datetime.time(6, 50), datetime.time(7, 50),\n",
       "       datetime.time(12, 0), datetime.time(12, 30), datetime.time(18, 35),\n",
       "       datetime.time(21, 30), datetime.time(10, 15),\n",
       "       datetime.time(18, 50), datetime.time(18, 40),\n",
       "       datetime.time(16, 15), datetime.time(11, 15),\n",
       "       datetime.time(17, 40), datetime.time(7, 12), datetime.time(17, 45),\n",
       "       datetime.time(13, 40), datetime.time(11, 35), datetime.time(7, 20),\n",
       "       datetime.time(14, 15), datetime.time(22, 0), datetime.time(16, 45),\n",
       "       datetime.time(15, 5), datetime.time(6, 40), datetime.time(16, 30),\n",
       "       datetime.time(13, 33), datetime.time(9, 20), datetime.time(16, 20),\n",
       "       datetime.time(6, 15), datetime.time(17, 35), datetime.time(12, 45),\n",
       "       datetime.time(19, 30), datetime.time(18, 0), datetime.time(20, 10),\n",
       "       datetime.time(16, 25), datetime.time(15, 35),\n",
       "       datetime.time(20, 15)], dtype=object)"
      ]
     },
     "execution_count": 96,
     "metadata": {},
     "output_type": "execute_result"
    }
   ],
   "source": [
    "df.trip_itinerary.unique()"
   ]
  },
  {
   "cell_type": "markdown",
   "metadata": {},
   "source": [
    "### client_first_reservation"
   ]
  },
  {
   "cell_type": "code",
   "execution_count": 106,
   "metadata": {},
   "outputs": [
    {
     "data": {
      "text/plain": [
       "2020-10-13 20:07:00    10\n",
       "2021-01-21 11:09:00     9\n",
       "2021-03-29 10:34:00     9\n",
       "2021-01-13 15:29:00     9\n",
       "2021-03-12 19:04:00     9\n",
       "                       ..\n",
       "2021-01-29 21:28:00     1\n",
       "2021-04-19 12:11:00     1\n",
       "2021-04-23 22:14:00     1\n",
       "2021-03-29 17:45:00     1\n",
       "2021-04-13 14:07:00     1\n",
       "Name: client_first_reservation, Length: 1843, dtype: int64"
      ]
     },
     "execution_count": 106,
     "metadata": {},
     "output_type": "execute_result"
    }
   ],
   "source": [
    "df.client_first_reservation.value_counts()"
   ]
  },
  {
   "cell_type": "markdown",
   "metadata": {},
   "source": [
    "### client_prev_reservation"
   ]
  },
  {
   "cell_type": "code",
   "execution_count": null,
   "metadata": {},
   "outputs": [],
   "source": [
    "pd.to_datetime(df.client_prev_reservation, dayfirst=True)"
   ]
  },
  {
   "cell_type": "markdown",
   "metadata": {},
   "source": [
    "### client_next_reservation"
   ]
  },
  {
   "cell_type": "code",
   "execution_count": null,
   "metadata": {},
   "outputs": [],
   "source": [
    "pd.to_datetime(df.client_next_reservation, dayfirst=True)"
   ]
  },
  {
   "cell_type": "markdown",
   "metadata": {},
   "source": [
    "### client_last_reservation"
   ]
  },
  {
   "cell_type": "code",
   "execution_count": null,
   "metadata": {},
   "outputs": [],
   "source": [
    "pd.to_datetime(df.client_last_reservation, dayfirst=True)"
   ]
  },
  {
   "cell_type": "markdown",
   "metadata": {},
   "source": [
    "### client_first_trip\n",
    "\n",
    "    "
   ]
  },
  {
   "cell_type": "code",
   "execution_count": null,
   "metadata": {},
   "outputs": [],
   "source": []
  },
  {
   "cell_type": "markdown",
   "metadata": {},
   "source": [
    "### client_prev_trip"
   ]
  },
  {
   "cell_type": "code",
   "execution_count": null,
   "metadata": {},
   "outputs": [],
   "source": [
    "pd.to_datetime(df.client_prev_trip, dayfirst=True)"
   ]
  },
  {
   "cell_type": "markdown",
   "metadata": {},
   "source": [
    "### client_next_trip"
   ]
  },
  {
   "cell_type": "code",
   "execution_count": null,
   "metadata": {},
   "outputs": [],
   "source": []
  },
  {
   "cell_type": "markdown",
   "metadata": {},
   "source": [
    "### client_last_trip"
   ]
  },
  {
   "cell_type": "code",
   "execution_count": null,
   "metadata": {},
   "outputs": [],
   "source": [
    "date_cols"
   ]
  },
  {
   "cell_type": "markdown",
   "metadata": {},
   "source": [
    "# CONCLUSIONS:\n",
    "\n",
    "1. Tuesdays, Wednesdays, Thursdays are the weakest days "
   ]
  },
  {
   "cell_type": "code",
   "execution_count": null,
   "metadata": {},
   "outputs": [],
   "source": []
  }
 ],
 "metadata": {
  "kernelspec": {
   "display_name": "Python 3",
   "language": "python",
   "name": "python3"
  },
  "language_info": {
   "codemirror_mode": {
    "name": "ipython",
    "version": 3
   },
   "file_extension": ".py",
   "mimetype": "text/x-python",
   "name": "python",
   "nbconvert_exporter": "python",
   "pygments_lexer": "ipython3",
   "version": "3.8.5"
  }
 },
 "nbformat": 4,
 "nbformat_minor": 4
}
